{
 "cells": [
  {
   "metadata": {
    "ExecuteTime": {
     "end_time": "2024-11-25T07:20:52.948754Z",
     "start_time": "2024-11-25T07:20:52.097840Z"
    }
   },
   "cell_type": "code",
   "source": [
    "import numpy as np\n",
    "import pandas as pd\n",
    "from predictor.test_predictor import LassoPredictor"
   ],
   "id": "50d5934f3586843d",
   "outputs": [],
   "execution_count": 1
  },
  {
   "metadata": {
    "ExecuteTime": {
     "end_time": "2024-11-25T07:22:17.133636Z",
     "start_time": "2024-11-25T07:20:55.316943Z"
    }
   },
   "cell_type": "code",
   "source": [
    "model = LassoPredictor()\n",
    "model.train_and_save_model() "
   ],
   "id": "1377c3c4c35f4ef9",
   "outputs": [
    {
     "name": "stdout",
     "output_type": "stream",
     "text": [
      "Training Lasso model for station: PANC\n",
      "Model for station PANC saved successfully!\n",
      "Training Lasso model for station: KBOI\n",
      "Model for station KBOI saved successfully!\n",
      "Training Lasso model for station: KORD\n",
      "Model for station KORD saved successfully!\n",
      "Training Lasso model for station: KDEN\n",
      "Model for station KDEN saved successfully!\n",
      "Training Lasso model for station: KDTW\n",
      "Model for station KDTW saved successfully!\n",
      "Training Lasso model for station: PHNL\n",
      "Model for station PHNL saved successfully!\n",
      "Training Lasso model for station: KIAH\n",
      "Model for station KIAH saved successfully!\n",
      "Training Lasso model for station: KMIA\n",
      "Model for station KMIA saved successfully!\n",
      "Training Lasso model for station: KMSP\n",
      "Model for station KMSP saved successfully!\n",
      "Training Lasso model for station: KOKC\n",
      "Model for station KOKC saved successfully!\n",
      "Training Lasso model for station: KBNA\n",
      "Model for station KBNA saved successfully!\n",
      "Training Lasso model for station: KJFK\n",
      "Model for station KJFK saved successfully!\n",
      "Training Lasso model for station: KPHX\n",
      "Model for station KPHX saved successfully!\n",
      "Training Lasso model for station: KPWM\n",
      "Model for station KPWM saved successfully!\n",
      "Training Lasso model for station: KPDX\n",
      "Model for station KPDX saved successfully!\n",
      "Training Lasso model for station: KSLC\n",
      "Model for station KSLC saved successfully!\n",
      "Training Lasso model for station: KSAN\n",
      "Model for station KSAN saved successfully!\n",
      "Training Lasso model for station: KSFO\n",
      "Model for station KSFO saved successfully!\n",
      "Training Lasso model for station: KSEA\n",
      "Model for station KSEA saved successfully!\n",
      "Training Lasso model for station: KDCA\n",
      "Model for station KDCA saved successfully!\n"
     ]
    }
   ],
   "execution_count": 3
  },
  {
   "metadata": {
    "ExecuteTime": {
     "end_time": "2024-11-25T07:22:24.780905Z",
     "start_time": "2024-11-25T07:22:24.535469Z"
    }
   },
   "cell_type": "code",
   "source": [
    "from predictor.utils import stations_list\n",
    "for station in stations_list:\n",
    "    print(model.predict(f\"../data/restructured_simple/{station}.csv\",station))"
   ],
   "id": "f145b547a7c52925",
   "outputs": [
    {
     "name": "stdout",
     "output_type": "stream",
     "text": [
      "[1328.28814106  738.37831851 1383.70428289 1700.44984872 1218.68831465\n",
      " 1442.11185653 1825.16401416 1133.40564063 1378.1536988  1829.45497414\n",
      " 1184.61012624 1432.37728739 1878.83915561 1108.40814958 1157.15983483]\n",
      "[ -140.59336661 -1044.24110342  -573.19121259 -1151.91559887\n",
      " -2139.4182676  -2044.76914214 -2015.32071808 -3175.3135389\n",
      " -3444.99714941 -2946.56264297 -4292.41351874 -4561.04207434\n",
      " -3725.78117762 -5096.25431856 -5188.22722711]\n",
      "[ 1469.43385471   793.6663281    935.37113002   608.62623542\n",
      "    99.94558002  -196.99499292  -466.36292014  -984.72074584\n",
      " -1232.73613039 -1042.76757077 -1520.52947319 -1723.93403104\n",
      " -1522.29686182 -1958.45502821 -1886.62892092]\n",
      "[ -468.25422235   -61.31807529   462.11643602 -1771.39785114\n",
      " -1330.03216294 -1353.50182888 -2869.60135956 -2434.83932969\n",
      " -2262.57073146 -3341.23037957 -3050.10047426 -3024.13597591\n",
      " -3957.53181505 -3869.16831319 -3980.15001078]\n",
      "[  514.0985463    269.94701429   733.22764386  -559.86544887\n",
      "  -896.3705172   -689.74277481 -1382.97543893 -1822.4589225\n",
      " -1444.1992079  -1755.65556578 -2234.59890051 -1819.08943578\n",
      " -1925.04905533 -2338.49227603 -2277.94467961]\n",
      "[-330.48080296 -529.53875836 -228.26708871 -499.41767313 -647.65253233\n",
      " -218.0934052  -658.38232648 -726.12714784 -406.795482   -577.72259319\n",
      " -754.43872604 -350.67560029 -673.21283962 -640.39405327 -292.24366553]\n",
      "[ -4842.12529458   -427.06096198  -6304.04933684 -18733.13372127\n",
      " -14930.04742204 -20154.48381728 -27700.83967959 -30207.14837395\n",
      " -38101.35754377 -33358.75353777 -39950.0934638  -46455.28040088\n",
      " -38111.03936301 -43648.28557988 -49277.6618047 ]\n",
      "[  -18.9653351    -67.99863112   462.6063349   -267.21777189\n",
      "  -192.74083032   163.86734295  -667.83555692  -492.95177567\n",
      "  -148.64619258  -822.32255726  -646.51637136  -407.79983193\n",
      " -1015.43891081  -833.20646284  -486.93324604]\n",
      "[ 1168.78296789  1426.19804446  1774.79368805  -225.69593195\n",
      "    52.76605181   -95.77677974 -1704.992846   -1462.77196786\n",
      " -1284.45662967 -2507.67444462 -2465.66553712 -2035.07699406\n",
      " -2948.29784265 -3029.13574784 -2754.73150986]\n",
      "[ -2203.1606699   -1802.06453368  -3000.69566626  -5949.5874342\n",
      "  -5740.63310311  -7061.55392521  -8420.85850697  -7977.40106952\n",
      "  -8215.80662036  -9199.24950776  -8748.53751631  -9103.52844346\n",
      " -10139.07689865  -9704.87108463 -10147.96089562]\n",
      "[  207.10485393   -45.07181339 -1127.15557297 -2269.28082465\n",
      " -2983.49937543 -4876.72507468 -4949.37675925 -5550.60710371\n",
      " -6563.57160897 -5713.90410284 -6436.5169999  -7232.3146955\n",
      " -6050.19291983 -6550.42426701 -7106.90670823]\n",
      "[1201.47412726 1294.33329822 2589.33708037  965.8947891   999.72213811\n",
      " 1780.98436969  719.13910129  517.69296551 1468.79970043 1013.88664438\n",
      "  943.3458621  1978.66483844 1349.02521457 1306.6566123  1902.28261476]\n",
      "[-419.43792837  975.66759008   53.99740878 -537.46189012 1423.09372478\n",
      "  -71.72424416 -540.02143088 1099.62944843  -83.88450191 -505.70360502\n",
      "  829.06614121 -116.6425807  -514.98961481  285.16049933 -129.58300067]\n",
      "[1825.67180289 1089.43887898 1174.67883506 1460.91943282  754.38041842\n",
      "  365.83969007  632.89697202 -175.44242114 -606.91062727  328.16625881\n",
      " -472.37857108 -581.59017056  305.54339259 -316.38099344 -448.33457825]\n",
      "[  762.67861334   932.78151752  1265.39868958   350.9869739\n",
      "  1070.38956912   592.33829624  -233.12808657   172.12950376\n",
      "  -289.20408924  -932.81000109  -662.31612048 -1346.82837032\n",
      " -1353.62936734 -1270.74937747 -1786.25560947]\n",
      "[ -345.41044176  -490.85721529  -185.35917998 -1775.82749126\n",
      " -2396.58850299 -2776.49676162 -3319.98620487 -4316.68040127\n",
      " -4548.96727082 -4578.1682595  -5728.71141273 -5750.20928518\n",
      " -5694.54453563 -6760.6735395  -6831.93096196]\n",
      "[607.42382848  98.23978816 254.70441159 729.24891685 146.65059068\n",
      " 280.4171411  744.83312851 170.83884508 373.98207419 798.73246796\n",
      " 246.68388258 495.6012583  795.6248083  298.09464092 748.60459635]\n",
      "[ 391.57546742 -637.76421193  590.77201291  458.09095746 -380.83353086\n",
      "  805.45037276  478.44402146 -154.43990421 1034.3440318   548.28385926\n",
      "    4.51000429 1110.04598295  625.93088148  186.36039444 1264.36288313]\n",
      "[1105.24700582  831.43259712 1553.99190802 1662.14407458 1693.74254961\n",
      " 2266.38677327 1460.79474845 1942.28851422 2562.44191792  998.57583834\n",
      " 1744.38479724 2522.75513065  827.48588997 1672.23581211 2561.31579987]\n",
      "[  182.74341388   369.21272136   717.35140225  -974.59933713\n",
      "  -560.64190398   -61.73519969 -1531.9025855  -1274.16513028\n",
      "  -379.49552799 -1346.72992143 -1059.72025483  -314.77144144\n",
      "  -965.47457205  -894.29575912  -237.11741682]\n"
     ]
    }
   ],
   "execution_count": 4
  },
  {
   "metadata": {},
   "cell_type": "code",
   "source": "data = pd.read_csv(\"regression_data/PANC.csv\")",
   "id": "c0577b72a2cc6b10",
   "outputs": [],
   "execution_count": null
  },
  {
   "metadata": {
    "ExecuteTime": {
     "end_time": "2024-11-25T07:22:34.571183Z",
     "start_time": "2024-11-25T07:22:34.567694Z"
    }
   },
   "cell_type": "code",
   "source": "from analysis import evaluate_model",
   "id": "defd72149ab6e549",
   "outputs": [],
   "execution_count": 5
  },
  {
   "metadata": {
    "ExecuteTime": {
     "end_time": "2024-11-25T07:22:41.062311Z",
     "start_time": "2024-11-25T07:22:38.732744Z"
    }
   },
   "cell_type": "code",
   "source": "evaluate_model.evaluate_model_years(2018,2022, LassoPredictor())",
   "id": "251dc7b5fec385e4",
   "outputs": [
    {
     "data": {
      "text/plain": [
       "[np.float64(46.43209346828769),\n",
       " np.float64(217.17916105957823),\n",
       " np.float64(54.331361845152955),\n",
       " np.float64(59.596942046399704),\n",
       " np.float64(48.559053856267056)]"
      ]
     },
     "execution_count": 6,
     "metadata": {},
     "output_type": "execute_result"
    }
   ],
   "execution_count": 6
  },
  {
   "metadata": {},
   "cell_type": "code",
   "outputs": [],
   "execution_count": null,
   "source": "",
   "id": "9212ac953cffaf5d"
  }
 ],
 "metadata": {
  "kernelspec": {
   "display_name": "Python 3",
   "language": "python",
   "name": "python3"
  },
  "language_info": {
   "codemirror_mode": {
    "name": "ipython",
    "version": 2
   },
   "file_extension": ".py",
   "mimetype": "text/x-python",
   "name": "python",
   "nbconvert_exporter": "python",
   "pygments_lexer": "ipython2",
   "version": "2.7.6"
  }
 },
 "nbformat": 4,
 "nbformat_minor": 5
}
