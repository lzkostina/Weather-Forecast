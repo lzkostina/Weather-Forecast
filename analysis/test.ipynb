{
 "cells": [
  {
   "metadata": {
    "ExecuteTime": {
     "end_time": "2024-11-25T18:29:42.725933Z",
     "start_time": "2024-11-25T18:29:42.721084Z"
    }
   },
   "cell_type": "code",
   "source": [
    "import numpy as np\n",
    "import pandas as pd\n",
    "from predictor.test_predictor import RandomForestPredictor, XGBoostPredictor"
   ],
   "id": "50d5934f3586843d",
   "outputs": [],
   "execution_count": 3
  },
  {
   "metadata": {
    "ExecuteTime": {
     "end_time": "2024-11-25T19:05:20.544215Z",
     "start_time": "2024-11-25T18:29:44.273681Z"
    }
   },
   "cell_type": "code",
   "source": [
    "model = XGBoostPredictor()\n",
    "model.train_and_save_model() "
   ],
   "id": "1377c3c4c35f4ef9",
   "outputs": [
    {
     "name": "stdout",
     "output_type": "stream",
     "text": [
      "Training model for station: PANC\n",
      "Fitting 5 folds for each of 8 candidates, totalling 40 fits\n",
      "Best parameters for station PANC: {'learning_rate': 0.1, 'max_depth': 3, 'n_estimators': 100}\n",
      "Training model for station: KBOI\n",
      "Fitting 5 folds for each of 8 candidates, totalling 40 fits\n",
      "Best parameters for station KBOI: {'learning_rate': 0.1, 'max_depth': 3, 'n_estimators': 100}\n",
      "Training model for station: KORD\n",
      "Fitting 5 folds for each of 8 candidates, totalling 40 fits\n",
      "Best parameters for station KORD: {'learning_rate': 0.1, 'max_depth': 3, 'n_estimators': 100}\n",
      "Training model for station: KDEN\n",
      "Fitting 5 folds for each of 8 candidates, totalling 40 fits\n",
      "Best parameters for station KDEN: {'learning_rate': 0.1, 'max_depth': 3, 'n_estimators': 100}\n",
      "Training model for station: KDTW\n",
      "Fitting 5 folds for each of 8 candidates, totalling 40 fits\n",
      "Best parameters for station KDTW: {'learning_rate': 0.1, 'max_depth': 3, 'n_estimators': 100}\n",
      "Training model for station: PHNL\n",
      "Fitting 5 folds for each of 8 candidates, totalling 40 fits\n",
      "Best parameters for station PHNL: {'learning_rate': 0.1, 'max_depth': 3, 'n_estimators': 100}\n",
      "Training model for station: KIAH\n",
      "Fitting 5 folds for each of 8 candidates, totalling 40 fits\n",
      "Best parameters for station KIAH: {'learning_rate': 0.1, 'max_depth': 3, 'n_estimators': 100}\n",
      "Training model for station: KMIA\n",
      "Fitting 5 folds for each of 8 candidates, totalling 40 fits\n",
      "Best parameters for station KMIA: {'learning_rate': 0.1, 'max_depth': 3, 'n_estimators': 100}\n",
      "Training model for station: KMSP\n",
      "Fitting 5 folds for each of 8 candidates, totalling 40 fits\n",
      "Best parameters for station KMSP: {'learning_rate': 0.1, 'max_depth': 3, 'n_estimators': 100}\n",
      "Training model for station: KOKC\n",
      "Fitting 5 folds for each of 8 candidates, totalling 40 fits\n",
      "Best parameters for station KOKC: {'learning_rate': 0.1, 'max_depth': 3, 'n_estimators': 100}\n",
      "Training model for station: KBNA\n",
      "Fitting 5 folds for each of 8 candidates, totalling 40 fits\n",
      "Best parameters for station KBNA: {'learning_rate': 0.1, 'max_depth': 3, 'n_estimators': 100}\n",
      "Training model for station: KJFK\n",
      "Fitting 5 folds for each of 8 candidates, totalling 40 fits\n",
      "Best parameters for station KJFK: {'learning_rate': 0.1, 'max_depth': 3, 'n_estimators': 100}\n",
      "Training model for station: KPHX\n",
      "Fitting 5 folds for each of 8 candidates, totalling 40 fits\n",
      "Best parameters for station KPHX: {'learning_rate': 0.01, 'max_depth': 3, 'n_estimators': 100}\n",
      "Training model for station: KPWM\n",
      "Fitting 5 folds for each of 8 candidates, totalling 40 fits\n",
      "Best parameters for station KPWM: {'learning_rate': 0.1, 'max_depth': 3, 'n_estimators': 100}\n",
      "Training model for station: KPDX\n",
      "Fitting 5 folds for each of 8 candidates, totalling 40 fits\n",
      "Best parameters for station KPDX: {'learning_rate': 0.1, 'max_depth': 3, 'n_estimators': 100}\n",
      "Training model for station: KSLC\n",
      "Fitting 5 folds for each of 8 candidates, totalling 40 fits\n",
      "Best parameters for station KSLC: {'learning_rate': 0.1, 'max_depth': 3, 'n_estimators': 100}\n",
      "Training model for station: KSAN\n",
      "Fitting 5 folds for each of 8 candidates, totalling 40 fits\n",
      "Best parameters for station KSAN: {'learning_rate': 0.1, 'max_depth': 3, 'n_estimators': 100}\n",
      "Training model for station: KSFO\n",
      "Fitting 5 folds for each of 8 candidates, totalling 40 fits\n",
      "Best parameters for station KSFO: {'learning_rate': 0.1, 'max_depth': 3, 'n_estimators': 100}\n",
      "Training model for station: KSEA\n",
      "Fitting 5 folds for each of 8 candidates, totalling 40 fits\n",
      "Best parameters for station KSEA: {'learning_rate': 0.1, 'max_depth': 3, 'n_estimators': 100}\n",
      "Training model for station: KDCA\n",
      "Fitting 5 folds for each of 8 candidates, totalling 40 fits\n",
      "Best parameters for station KDCA: {'learning_rate': 0.1, 'max_depth': 3, 'n_estimators': 100}\n"
     ]
    }
   ],
   "execution_count": 4
  },
  {
   "metadata": {
    "ExecuteTime": {
     "end_time": "2024-11-25T19:05:30.663945Z",
     "start_time": "2024-11-25T19:05:30.232857Z"
    }
   },
   "cell_type": "code",
   "source": [
    "from predictor.utils import stations_list\n",
    "for station in stations_list:\n",
    "    print(model.predict(f\"../data/restructured_simple/{station}.csv\",station))"
   ],
   "id": "f145b547a7c52925",
   "outputs": [
    {
     "name": "stdout",
     "output_type": "stream",
     "text": [
      "[18.04 22.31 28.52 16.89 21.51 28.26 14.88 23.05 29.82 17.24 22.95 29.65\n",
      " 16.57 22.89 31.53]\n",
      "[31.64 40.3  50.46 30.66 39.5  53.56 30.72 40.77 51.25 29.79 40.82 54.05\n",
      " 26.97 42.08 52.78]\n",
      "[39.31 50.11 54.6  36.37 42.65 50.04 30.65 43.54 52.12 27.8  41.98 52.27\n",
      " 28.58 40.82 46.62]\n",
      "[23.74 37.35 49.55 23.02 35.19 49.51 22.96 32.25 44.27 19.31 29.69 46.58\n",
      " 21.84 33.27 42.72]\n",
      "[39.26 45.07 54.46 33.12 43.32 54.05 31.03 38.22 52.33 32.87 43.31 54.07\n",
      " 31.68 41.68 54.22]\n",
      "[71.37 76.25 81.43 69.28 74.89 81.99 68.22 74.1  82.95 67.71 72.49 82.77\n",
      " 69.09 75.24 83.43]\n",
      "[61.19 68.86 73.61 52.7  60.7  74.16 50.09 60.8  74.69 51.29 63.77 72.58\n",
      " 50.19 64.3  70.58]\n",
      "[72.64 76.12 82.66 67.08 74.4  80.61 64.5  72.7  82.7  61.08 73.78 79.36\n",
      " 66.55 73.4  81.44]\n",
      "[30.21 39.18 46.22 32.1  39.53 50.01 28.36 36.29 41.47 23.53 29.54 39.3\n",
      " 22.35 22.27 39.61]\n",
      "[39.99 55.9  60.1  36.76 48.18 60.99 38.61 50.96 59.36 39.64 50.26 59.78\n",
      " 36.2  50.53 62.28]\n",
      "[45.97 55.86 66.69 42.35 54.22 64.76 38.64 48.51 60.37 38.17 50.57 59.89\n",
      " 40.04 52.41 61.54]\n",
      "[51.92 59.37 66.16 42.57 48.65 56.7  40.48 47.84 59.41 45.1  48.78 61.19\n",
      " 45.49 51.24 59.24]\n",
      "[57.31 83.3  76.76 58.14 69.48 74.59 59.   68.64 74.06 59.03 68.79 74.15\n",
      " 59.36 68.84 74.97]\n",
      "[29.3  38.73 46.44 28.37 36.63 39.05 24.5  30.51 37.62 18.52 29.38 34.47\n",
      " 17.86 28.44 36.97]\n",
      "[46.12 50.72 58.48 41.11 48.33 58.43 40.09 44.83 58.69 38.57 48.54 57.51\n",
      " 39.62 49.66 59.71]\n",
      "[33.79 45.26 57.66 32.86 42.   52.66 31.08 41.53 52.52 30.72 42.39 52.85\n",
      " 30.36 43.44 52.51]\n",
      "[53.56 56.21 68.5  50.6  58.83 67.22 49.22 57.65 66.61 49.82 58.88 65.49\n",
      " 51.83 58.98 65.81]\n",
      "[48.43 54.37 62.35 47.69 56.34 62.79 46.55 53.62 64.4  47.41 53.74 63.14\n",
      " 46.63 54.4  63.39]\n",
      "[43.23 48.64 54.18 42.07 49.75 53.95 42.97 47.98 54.85 38.98 46.09 54.07\n",
      " 39.46 45.52 54.55]\n",
      "[40.63 49.67 62.97 34.18 43.76 52.81 33.86 40.11 50.09 30.11 41.63 49.07\n",
      " 34.58 40.89 50.62]\n"
     ]
    }
   ],
   "execution_count": 5
  },
  {
   "metadata": {},
   "cell_type": "code",
   "source": "data = pd.read_csv(\"regression_data/PANC.csv\")",
   "id": "c0577b72a2cc6b10",
   "outputs": [],
   "execution_count": null
  },
  {
   "metadata": {
    "ExecuteTime": {
     "end_time": "2024-11-25T19:05:36.345171Z",
     "start_time": "2024-11-25T19:05:36.337310Z"
    }
   },
   "cell_type": "code",
   "source": "from analysis.evaluate_model import evaluate_model_years",
   "id": "defd72149ab6e549",
   "outputs": [],
   "execution_count": 6
  },
  {
   "metadata": {},
   "cell_type": "code",
   "outputs": [],
   "execution_count": null,
   "source": "",
   "id": "94b9c7c5a4fa8dfb"
  },
  {
   "metadata": {
    "ExecuteTime": {
     "end_time": "2024-11-25T19:06:01.485437Z",
     "start_time": "2024-11-25T19:05:45.149867Z"
    }
   },
   "cell_type": "code",
   "source": "evaluate_model_years(2018,2022, predictor=XGBoostPredictor())",
   "id": "251dc7b5fec385e4",
   "outputs": [
    {
     "data": {
      "text/plain": [
       "array([49.51, 59.22, 61.48, 61.57, 55.94])"
      ]
     },
     "execution_count": 7,
     "metadata": {},
     "output_type": "execute_result"
    }
   ],
   "execution_count": 7
  },
  {
   "metadata": {},
   "cell_type": "code",
   "outputs": [],
   "execution_count": null,
   "source": "",
   "id": "9212ac953cffaf5d"
  }
 ],
 "metadata": {
  "kernelspec": {
   "display_name": "Python 3",
   "language": "python",
   "name": "python3"
  },
  "language_info": {
   "codemirror_mode": {
    "name": "ipython",
    "version": 2
   },
   "file_extension": ".py",
   "mimetype": "text/x-python",
   "name": "python",
   "nbconvert_exporter": "python",
   "pygments_lexer": "ipython2",
   "version": "2.7.6"
  }
 },
 "nbformat": 4,
 "nbformat_minor": 5
}
