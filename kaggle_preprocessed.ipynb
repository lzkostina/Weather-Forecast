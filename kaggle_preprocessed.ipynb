{
 "cells": [
  {
   "cell_type": "code",
   "execution_count": 2,
   "id": "f6fddc71-1acc-4b72-9f84-76d80ac52ca2",
   "metadata": {},
   "outputs": [
    {
     "name": "stdout",
     "output_type": "stream",
     "text": [
      "Files in ZIP: ['city_temperature.csv', '__MACOSX/._city_temperature.csv']\n"
     ]
    },
    {
     "name": "stderr",
     "output_type": "stream",
     "text": [
      "/var/folders/7h/3m_38tws03b1dfjtjn_hl28r0000gs/T/ipykernel_51009/672860351.py:15: DtypeWarning: Columns (2) have mixed types. Specify dtype option on import or set low_memory=False.\n",
      "  df = pd.read_csv(f)\n"
     ]
    },
    {
     "name": "stdout",
     "output_type": "stream",
     "text": [
      "DataFrame saved to data/preprocessed/kaggle_preprocessed.csv\n"
     ]
    }
   ],
   "source": [
    "import numpy as np\n",
    "import pandas as pd\n",
    "import zipfile\n",
    "import os\n",
    "\n",
    "# Path to the .csv.zip file\n",
    "file_path = \"data/kaggle/city_temperature.csv.zip\" \n",
    "# Open the ZIP file\n",
    "with zipfile.ZipFile(file_path, 'r') as z:\n",
    "    # List all files in the ZIP to find the correct .csv file\n",
    "    print(\"Files in ZIP:\", z.namelist())\n",
    "    \n",
    "    # Extract the specific .csv file and read it into a DataFrame\n",
    "    with z.open('city_temperature.csv') as f:  # Adjust to your specific file name if different\n",
    "        df = pd.read_csv(f)\n",
    "\n",
    "# Display the first few rows of the DataFrame\n",
    "#print(df.head())\n",
    "\n",
    "df_0 = df[df['Country'] == 'US'] \n",
    "\n",
    "# Path to the folder in your Git repository\n",
    "folder_path = \"data/preprocessed\"  \n",
    "# Ensure the folder exists (if not, create it)\n",
    "os.makedirs(folder_path, exist_ok=True)\n",
    "\n",
    "# Path to save the CSV file\n",
    "file_name = \"kaggle_preprocessed.csv\"  # Replace with your desired file name\n",
    "file_path = os.path.join(folder_path, file_name)\n",
    "\n",
    "# Save the DataFrame to the folder\n",
    "df_0.to_csv(file_path, index=False)\n",
    "\n",
    "print(f\"DataFrame saved to {file_path}\")"
   ]
  },
  {
   "cell_type": "code",
   "execution_count": null,
   "id": "5f0f0f17-5347-467a-8d9b-8ebb1774bdfc",
   "metadata": {},
   "outputs": [],
   "source": []
  }
 ],
 "metadata": {
  "kernelspec": {
   "display_name": "Python 3 (ipykernel)",
   "language": "python",
   "name": "python3"
  },
  "language_info": {
   "codemirror_mode": {
    "name": "ipython",
    "version": 3
   },
   "file_extension": ".py",
   "mimetype": "text/x-python",
   "name": "python",
   "nbconvert_exporter": "python",
   "pygments_lexer": "ipython3",
   "version": "3.11.9"
  }
 },
 "nbformat": 4,
 "nbformat_minor": 5
}
